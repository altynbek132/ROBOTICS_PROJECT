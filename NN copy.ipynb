{
 "cells": [
  {
   "cell_type": "code",
   "execution_count": 1,
   "id": "4b7c308a",
   "metadata": {},
   "outputs": [
    {
     "name": "stderr",
     "output_type": "stream",
     "text": [
      "2023-04-12 00:53:13.994421: I tensorflow/core/platform/cpu_feature_guard.cc:193] This TensorFlow binary is optimized with oneAPI Deep Neural Network Library (oneDNN) to use the following CPU instructions in performance-critical operations:  SSE4.1 SSE4.2\n",
      "To enable them in other operations, rebuild TensorFlow with the appropriate compiler flags.\n"
     ]
    },
    {
     "name": "stdout",
     "output_type": "stream",
     "text": [
      "import finish\n"
     ]
    }
   ],
   "source": [
    "from sklearn.preprocessing import LabelBinarizer\n",
    "from sklearn.metrics import classification_report\n",
    "from tensorflow.keras.models import Sequential\n",
    "from tensorflow.keras.layers import Dense, Flatten\n",
    "from tensorflow.keras.optimizers import SGD\n",
    "from tensorflow.keras import backend as K\n",
    "import matplotlib.pyplot as plt\n",
    "import numpy as np\n",
    "import argparse\n",
    "print('import finish')"
   ]
  },
  {
   "cell_type": "code",
   "execution_count": 2,
   "id": "cb940f9a",
   "metadata": {},
   "outputs": [],
   "source": [
    "joint_number = 12"
   ]
  },
  {
   "cell_type": "code",
   "execution_count": 1,
   "id": "2b49e075",
   "metadata": {},
   "outputs": [
    {
     "ename": "NameError",
     "evalue": "name 'np' is not defined",
     "output_type": "error",
     "traceback": [
      "\u001b[0;31m---------------------------------------------------------------------------\u001b[0m",
      "\u001b[0;31mNameError\u001b[0m                                 Traceback (most recent call last)",
      "Cell \u001b[0;32mIn[1], line 3\u001b[0m\n\u001b[1;32m      1\u001b[0m input_tables \u001b[38;5;241m=\u001b[39m []\n\u001b[1;32m      2\u001b[0m \u001b[38;5;28;01mfor\u001b[39;00m i \u001b[38;5;129;01min\u001b[39;00m \u001b[38;5;28mrange\u001b[39m(\u001b[38;5;241m1\u001b[39m, \u001b[38;5;241m6\u001b[39m):\n\u001b[0;32m----> 3\u001b[0m     input_tables\u001b[38;5;241m.\u001b[39mappend(\u001b[43mnp\u001b[49m\u001b[38;5;241m.\u001b[39mloadtxt(\u001b[38;5;124mf\u001b[39m\u001b[38;5;124m'\u001b[39m\u001b[38;5;124m./Data/data\u001b[39m\u001b[38;5;132;01m{\u001b[39;00mi\u001b[38;5;132;01m}\u001b[39;00m\u001b[38;5;124m.txt\u001b[39m\u001b[38;5;124m'\u001b[39m, skiprows\u001b[38;5;241m=\u001b[39m\u001b[38;5;241m3\u001b[39m))\n\u001b[1;32m      4\u001b[0m input_tables \u001b[38;5;241m=\u001b[39m np\u001b[38;5;241m.\u001b[39marray(input_tables)\n\u001b[1;32m      5\u001b[0m \u001b[38;5;28mprint\u001b[39m(input_tables\u001b[38;5;241m.\u001b[39mshape)\n",
      "\u001b[0;31mNameError\u001b[0m: name 'np' is not defined"
     ]
    }
   ],
   "source": [
    "input_tables = []\n",
    "for i in range(1, 6):\n",
    "    input_tables.append(np.loadtxt(f'./Data/data{i}.txt', skiprows=3))\n",
    "input_tables = np.array(input_tables)\n",
    "print(input_tables.shape)"
   ]
  },
  {
   "cell_type": "code",
   "execution_count": 8,
   "id": "46f86a6f",
   "metadata": {},
   "outputs": [
    {
     "name": "stdout",
     "output_type": "stream",
     "text": [
      "(9701, 37)\n"
     ]
    }
   ],
   "source": [
    "dataset = np.loadtxt(f'dataset.txt', skiprows=3)\n",
    "print(dataset.shape)"
   ]
  },
  {
   "cell_type": "code",
   "execution_count": 48,
   "id": "244e1451",
   "metadata": {},
   "outputs": [
    {
     "name": "stdout",
     "output_type": "stream",
     "text": [
      "(2, 3)\n",
      "(2,)\n"
     ]
    },
    {
     "ename": "ValueError",
     "evalue": "operands could not be broadcast together with shapes (2,3) (2,) ",
     "output_type": "error",
     "traceback": [
      "\u001b[0;31m---------------------------------------------------------------------------\u001b[0m",
      "\u001b[0;31mValueError\u001b[0m                                Traceback (most recent call last)",
      "Cell \u001b[0;32mIn[48], line 17\u001b[0m\n\u001b[1;32m     15\u001b[0m \u001b[38;5;66;03m#     print(diff_v/diff_t)\u001b[39;00m\n\u001b[1;32m     16\u001b[0m     np\u001b[38;5;241m.\u001b[39mdivide(diff_v\u001b[38;5;241m/\u001b[39mdiff_t)\n\u001b[0;32m---> 17\u001b[0m \u001b[43masdf\u001b[49m\u001b[43m(\u001b[49m\u001b[43m)\u001b[49m\n",
      "Cell \u001b[0;32mIn[48], line 16\u001b[0m, in \u001b[0;36masdf\u001b[0;34m()\u001b[0m\n\u001b[1;32m     14\u001b[0m     \u001b[38;5;28mprint\u001b[39m(diff_t\u001b[38;5;241m.\u001b[39mshape)\n\u001b[1;32m     15\u001b[0m \u001b[38;5;66;03m#     print(diff_v/diff_t)\u001b[39;00m\n\u001b[0;32m---> 16\u001b[0m     np\u001b[38;5;241m.\u001b[39mdivide(\u001b[43mdiff_v\u001b[49m\u001b[38;5;241;43m/\u001b[39;49m\u001b[43mdiff_t\u001b[49m)\n",
      "\u001b[0;31mValueError\u001b[0m: operands could not be broadcast together with shapes (2,3) (2,) "
     ]
    }
   ],
   "source": [
    "def asdf():\n",
    "    # test\n",
    "    vels = np.array([\n",
    "        [1,2,3],\n",
    "        [4,4,4],\n",
    "        [5,6,7],\n",
    "    ])\n",
    "    diff_v = (np.diff(vels, axis=0))\n",
    "    print(diff_v.shape)\n",
    "    diff_t = np.array([\n",
    "        2,\n",
    "        2,\n",
    "    ])\n",
    "    print(diff_t.shape)\n",
    "#     print(diff_v/diff_t)\n",
    "    np.divide(diff_v/diff_t)\n",
    "asdf()"
   ]
  },
  {
   "cell_type": "code",
   "execution_count": null,
   "id": "7dd9f800",
   "metadata": {},
   "outputs": [],
   "source": []
  },
  {
   "cell_type": "code",
   "execution_count": null,
   "id": "4869cdc2",
   "metadata": {},
   "outputs": [],
   "source": []
  },
  {
   "cell_type": "code",
   "execution_count": null,
   "id": "9b4394e8",
   "metadata": {},
   "outputs": [],
   "source": []
  },
  {
   "cell_type": "code",
   "execution_count": null,
   "id": "51bf993b",
   "metadata": {},
   "outputs": [],
   "source": []
  },
  {
   "cell_type": "code",
   "execution_count": 41,
   "id": "d738622d",
   "metadata": {},
   "outputs": [
    {
     "name": "stdout",
     "output_type": "stream",
     "text": [
      "velocities.shape:(9701, 12)\n",
      "diff_v.shape:(9700, 12)\n",
      "diff_t.shape:(9700,)\n"
     ]
    },
    {
     "ename": "ValueError",
     "evalue": "operands could not be broadcast together with shapes (9700,12) (9700,) ",
     "output_type": "error",
     "traceback": [
      "\u001b[0;31m---------------------------------------------------------------------------\u001b[0m",
      "\u001b[0;31mValueError\u001b[0m                                Traceback (most recent call last)",
      "Cell \u001b[0;32mIn[41], line 9\u001b[0m\n\u001b[1;32m      7\u001b[0m diff_t \u001b[38;5;241m=\u001b[39m np\u001b[38;5;241m.\u001b[39mdiff(time)\n\u001b[1;32m      8\u001b[0m \u001b[38;5;28mprint\u001b[39m(\u001b[38;5;124mf\u001b[39m\u001b[38;5;124m'\u001b[39m\u001b[38;5;124mdiff_t.shape:\u001b[39m\u001b[38;5;132;01m{\u001b[39;00mdiff_t\u001b[38;5;241m.\u001b[39mshape\u001b[38;5;132;01m}\u001b[39;00m\u001b[38;5;124m'\u001b[39m)\n\u001b[0;32m----> 9\u001b[0m acc \u001b[38;5;241m=\u001b[39m np\u001b[38;5;241m.\u001b[39mtranspose(\u001b[43mdiff_v\u001b[49m\u001b[38;5;241;43m/\u001b[39;49m\u001b[43mdiff_t\u001b[49m)\n\u001b[1;32m     10\u001b[0m full_dataset \u001b[38;5;241m=\u001b[39m np\u001b[38;5;241m.\u001b[39minsert(full_dataset[\u001b[38;5;241m0\u001b[39m:\u001b[38;5;241m-\u001b[39m\u001b[38;5;241m1\u001b[39m], \u001b[38;5;28mlist\u001b[39m(\u001b[38;5;28mrange\u001b[39m(\u001b[38;5;241m3\u001b[39m, \u001b[38;5;241m3\u001b[39m \u001b[38;5;241m*\u001b[39m joint_number \u001b[38;5;241m+\u001b[39m \u001b[38;5;241m1\u001b[39m, \u001b[38;5;241m3\u001b[39m)), acc, axis\u001b[38;5;241m=\u001b[39m\u001b[38;5;241m1\u001b[39m)\n",
      "\u001b[0;31mValueError\u001b[0m: operands could not be broadcast together with shapes (9700,12) (9700,) "
     ]
    }
   ],
   "source": [
    "full_dataset = np.array(dataset)\n",
    "time = full_dataset[:, 0]\n",
    "velocities = full_dataset[:, 2::3]\n",
    "print(f'velocities.shape:{velocities.shape}')\n",
    "diff_v = np.diff(velocities, axis=0)\n",
    "print(f'diff_v.shape:{diff_v.shape}')\n",
    "diff_t = np.diff(time)\n",
    "print(f'diff_t.shape:{diff_t.shape}')\n",
    "acc = np.transpose(diff_v/diff_t)\n",
    "full_dataset = np.insert(full_dataset[0:-1], list(range(3, 3 * joint_number + 1, 3)), acc, axis=1)\n"
   ]
  },
  {
   "cell_type": "code",
   "execution_count": null,
   "id": "e6c3fd2f",
   "metadata": {},
   "outputs": [],
   "source": [
    "diff_v = np.diff(velocities)\n",
    "diff_t = np.diff(time)"
   ]
  },
  {
   "cell_type": "code",
   "execution_count": 288,
   "id": "64ae1ca0",
   "metadata": {},
   "outputs": [
    {
     "name": "stdout",
     "output_type": "stream",
     "text": [
      "(5, 59, 49)\n",
      "[[[ 5.00000000e-02  3.07201000e-05 -7.15358000e-04 ...  5.47152000e-05\n",
      "   -2.17230600e-03 -4.02989000e-03]\n",
      "  [ 1.00000000e-01  9.53301000e-06 -2.55349000e-04 ... -5.39001000e-05\n",
      "   -2.74274000e-04 -8.34560000e-03]\n",
      "  [ 1.50000000e-01  1.99335000e-06 -9.05225000e-05 ... -6.76138000e-05\n",
      "    9.21980000e-05 -1.13010000e-02]\n",
      "  ...\n",
      "  [ 2.85000000e+00 -5.64755000e-07  2.37930000e-07 ... -3.29625000e-03\n",
      "    9.40180000e-03 -6.77483000e-03]\n",
      "  [ 2.90000000e+00  4.23456000e-03  1.52465000e-01 ... -2.82616000e-03\n",
      "    6.81923200e-02 -6.85378000e-05]\n",
      "  [ 2.95000000e+00  8.97750000e-03  4.67416000e-02 ...  5.83456000e-04\n",
      "    4.52938800e-02 -5.93106000e-03]]\n",
      "\n",
      " [[ 5.00000000e-02  3.07201000e-05 -7.15358000e-04 ...  5.47152000e-05\n",
      "   -2.17230600e-03 -4.02989000e-03]\n",
      "  [ 1.00000000e-01  9.53301000e-06 -2.55349000e-04 ... -5.39001000e-05\n",
      "   -2.74274000e-04 -8.34560000e-03]\n",
      "  [ 1.50000000e-01  1.99335000e-06 -9.05225000e-05 ... -6.76138000e-05\n",
      "    9.21980000e-05 -1.13010000e-02]\n",
      "  ...\n",
      "  [ 2.85000000e+00 -1.81331000e-03  9.42454000e-04 ... -4.65412000e-02\n",
      "    1.53580200e+00 -6.21984000e-01]\n",
      "  [ 2.90000000e+00 -1.76709000e-03  9.11255000e-04 ...  3.02489000e-02\n",
      "   -1.09295200e+00 -1.50683000e+00]\n",
      "  [ 2.95000000e+00 -1.72226000e-03  8.85085000e-04 ... -2.43987000e-02\n",
      "    5.20876800e-01 -1.60089000e+00]]\n",
      "\n",
      " [[ 5.00000000e-02  3.07201000e-05 -7.15358000e-04 ...  5.47152000e-05\n",
      "   -2.17230600e-03 -4.02989000e-03]\n",
      "  [ 1.00000000e-01  9.53301000e-06 -2.55349000e-04 ... -5.39001000e-05\n",
      "   -2.74274000e-04 -8.34560000e-03]\n",
      "  [ 1.50000000e-01  1.99335000e-06 -9.05225000e-05 ... -6.76138000e-05\n",
      "    9.21980000e-05 -1.13010000e-02]\n",
      "  ...\n",
      "  [ 2.85000000e+00  6.33231000e-03 -1.60177000e-01 ...  9.35167000e-03\n",
      "   -2.98838000e-02 -4.62454000e-02]\n",
      "  [ 2.90000000e+00  1.80131000e-03 -6.93360000e-02 ...  7.85748000e-03\n",
      "   -1.28216800e-01 -6.37298000e-02]\n",
      "  [ 2.95000000e+00  1.52858000e-03  4.85915000e-02 ...  1.44664000e-03\n",
      "   -9.11316000e-02  2.85430000e-02]]\n",
      "\n",
      " [[ 5.00000000e-02  3.07201000e-05 -7.15358000e-04 ...  5.47152000e-05\n",
      "   -2.17230600e-03 -4.02989000e-03]\n",
      "  [ 1.00000000e-01  9.53301000e-06 -2.55349000e-04 ... -5.39001000e-05\n",
      "   -2.74274000e-04 -8.34560000e-03]\n",
      "  [ 1.50000000e-01  1.99335000e-06 -9.05225000e-05 ... -6.76138000e-05\n",
      "   -4.02345724e-01 -1.13010000e-02]\n",
      "  ...\n",
      "  [ 2.85000000e+00 -5.37937000e-04  2.76794000e-04 ...  5.88982000e-01\n",
      "   -9.38900400e+01  9.07186000e-01]\n",
      "  [ 2.90000000e+00 -5.24335000e-04  2.69344000e-04 ... -4.10552000e+00\n",
      "    5.01720000e+01 -1.39741000e+00]\n",
      "  [ 2.95000000e+00 -5.11066000e-04  2.62115000e-04 ... -1.59692000e+00\n",
      "    2.00464800e+01 -2.01143000e+00]]\n",
      "\n",
      " [[ 5.00000000e-02  3.07201000e-05 -7.15358000e-04 ...  5.47152000e-05\n",
      "   -2.17230600e-03 -4.02989000e-03]\n",
      "  [ 1.00000000e-01  9.53301000e-06 -2.55349000e-04 ... -5.39001000e-05\n",
      "   -2.74274000e-04 -8.34560000e-03]\n",
      "  [ 1.50000000e-01  1.99335000e-06 -9.05225000e-05 ... -6.76138000e-05\n",
      "    9.21980000e-05 -1.13010000e-02]\n",
      "  ...\n",
      "  [ 2.85000000e+00  1.13428000e-02  6.41363000e-02 ...  4.16928000e-02\n",
      "   -3.04040000e-02 -7.79910000e-01]\n",
      "  [ 2.90000000e+00  1.14180000e-02 -2.67222000e-02 ...  4.01726000e-02\n",
      "   -6.33493200e-01  4.56979000e-01]\n",
      "  [ 2.95000000e+00  9.08314000e-03 -3.29854000e-02 ...  8.49794000e-03\n",
      "   -4.89968800e-01  8.15052000e-01]]]\n"
     ]
    }
   ],
   "source": [
    "inp_tables_with_acc = []\n",
    "for table in input_tables:\n",
    "    time = table[:, 0]\n",
    "    velocities = np.transpose(table[:, 2::3])\n",
    "    diff_v = np.diff(velocities)\n",
    "    diff_t = np.diff(time)\n",
    "    acc = np.transpose(diff_v/diff_t)\n",
    "    table = np.insert(table[0:-1], list(range(3, 3 * joint_number + 1, 3)), acc, axis=1)\n",
    "    inp_tables_with_acc.append(table)\n",
    "    \n",
    "full_tables = np.array(inp_tables_with_acc)\n",
    "print(full_tables.shape)\n",
    "print(full_tables)"
   ]
  },
  {
   "cell_type": "code",
   "execution_count": 289,
   "id": "3592e79b",
   "metadata": {},
   "outputs": [
    {
     "name": "stdout",
     "output_type": "stream",
     "text": [
      "[[0 1 2 3 4 5 6 7 8]\n",
      " [0 1 2 3 4 5 6 7 8]]\n",
      "(2, 9)\n"
     ]
    }
   ],
   "source": [
    "exampleInput = [\n",
    "#    time, pos, vel, acc, torque, pos2, vel2, acc2, torque2, ...\n",
    "    [0,    1,   2,   3,   4,      5,    6,    7,    8],\n",
    "    [0,    1,   2,   3,   4,      5,    6,    7,    8],\n",
    "]\n",
    "exampleInput = np.array(exampleInput)\n",
    "print(exampleInput)\n",
    "print(exampleInput.shape)\n"
   ]
  },
  {
   "cell_type": "code",
   "execution_count": 290,
   "id": "54fc7e66",
   "metadata": {
    "scrolled": false
   },
   "outputs": [
    {
     "name": "stdout",
     "output_type": "stream",
     "text": [
      "[[1 2 3 5 6 7]\n",
      " [1 2 3 5 6 7]]\n",
      "(2, 6)\n"
     ]
    }
   ],
   "source": [
    "# remove torques\n",
    "trainX = np.delete(exampleInput, slice(0, None, 4), 1)\n",
    "print(trainX)\n",
    "print(trainX.shape)"
   ]
  },
  {
   "cell_type": "code",
   "execution_count": 291,
   "id": "e2386946",
   "metadata": {
    "scrolled": true
   },
   "outputs": [],
   "source": [
    "table = np.concatenate(full_tables)"
   ]
  },
  {
   "cell_type": "code",
   "execution_count": 292,
   "id": "7e54a28a",
   "metadata": {},
   "outputs": [],
   "source": [
    "# remote time column\n",
    "table = table[:, 1:]"
   ]
  },
  {
   "cell_type": "code",
   "execution_count": 293,
   "id": "e53d840d",
   "metadata": {},
   "outputs": [
    {
     "name": "stdout",
     "output_type": "stream",
     "text": [
      "[[0 1 2]\n",
      " [3 4 5]\n",
      " [6 7 8]]\n",
      "(3, 3)\n"
     ]
    },
    {
     "data": {
      "text/plain": [
       "array([[0.        , 0.14285714, 0.25      ],\n",
       "       [0.5       , 0.57142857, 0.625     ],\n",
       "       [1.        , 1.        , 1.        ]])"
      ]
     },
     "execution_count": 293,
     "metadata": {},
     "output_type": "execute_result"
    }
   ],
   "source": [
    "# interpolate ex\n",
    "arr = np.arange(9).reshape(3, 3)\n",
    "print(arr)\n",
    "maxes = np.max(arr, axis=0)\n",
    "print(arr.shape)\n",
    "arr/maxes"
   ]
  },
  {
   "cell_type": "code",
   "execution_count": 294,
   "id": "527a18f9",
   "metadata": {},
   "outputs": [
    {
     "name": "stdout",
     "output_type": "stream",
     "text": [
      "[[ 3.072010e-05 -7.153580e-04  9.200180e-03 ...  5.471520e-05\n",
      "  -2.172306e-03 -4.029890e-03]\n",
      " [ 9.533010e-06 -2.553490e-04  3.296530e-03 ... -5.390010e-05\n",
      "  -2.742740e-04 -8.345600e-03]\n",
      " [ 1.993350e-06 -9.052250e-05  1.173442e-03 ... -6.761380e-05\n",
      "   9.219800e-05 -1.130100e-02]\n",
      " ...\n",
      " [ 1.134280e-02  6.413630e-02 -1.817170e+00 ...  4.169280e-02\n",
      "  -3.040400e-02 -7.799100e-01]\n",
      " [ 1.141800e-02 -2.672220e-02 -1.252640e-01 ...  4.017260e-02\n",
      "  -6.334932e-01  4.569790e-01]\n",
      " [ 9.083140e-03 -3.298540e-02  4.221080e-01 ...  8.497940e-03\n",
      "  -4.899688e-01  8.150520e-01]]\n",
      "1.0\n"
     ]
    }
   ],
   "source": [
    "# interpolate\n",
    "maxes = np.max(table, axis=0)\n",
    "print(table)\n",
    "table_interpolated = table/maxes\n",
    "print(np.max(table_interpolated))"
   ]
  },
  {
   "cell_type": "code",
   "execution_count": 295,
   "id": "854ac537",
   "metadata": {},
   "outputs": [
    {
     "name": "stdout",
     "output_type": "stream",
     "text": [
      "(265, 48)\n",
      "(30, 48)\n",
      "1.0\n"
     ]
    }
   ],
   "source": [
    "np.random.shuffle(table_interpolated)\n",
    "train = table_interpolated[0:int(table_interpolated.shape[0] * 0.9)]\n",
    "test = table_interpolated[int(table_interpolated.shape[0] * 0.9):]\n",
    "print(train.shape)\n",
    "print(test.shape)\n",
    "print(np.max(train))"
   ]
  },
  {
   "cell_type": "code",
   "execution_count": 304,
   "id": "8d44e33b",
   "metadata": {
    "scrolled": false
   },
   "outputs": [],
   "source": [
    "def split_to_x_y(table):\n",
    "    X = np.delete(table, slice(0, None, 4), 1)\n",
    "    Y = table[:, 2::4]\n",
    "    return X, Y"
   ]
  },
  {
   "cell_type": "code",
   "execution_count": 305,
   "id": "b4a4ba4b",
   "metadata": {},
   "outputs": [],
   "source": [
    "(trainX, trainY), (testX, testY) = split_to_x_y(train), split_to_x_y(test)\n"
   ]
  },
  {
   "cell_type": "code",
   "execution_count": 308,
   "id": "e88c071e",
   "metadata": {},
   "outputs": [],
   "source": [
    "model = Sequential()\n",
    "\n",
    "model.add(Flatten(input_shape=((joint_number * 3), )))\n",
    "# hidden\n",
    "model.add(Dense(joint_number * 3, activation=\"sigmoid\"))\n",
    "model.add(Dense(joint_number * 3, activation=\"sigmoid\"))\n",
    "model.add(Dense(joint_number * 3, activation=\"sigmoid\"))\n",
    "# output layer\n",
    "model.add(Dense(joint_number, activation=\"softmax\"))"
   ]
  },
  {
   "cell_type": "code",
   "execution_count": 309,
   "id": "1beec32e",
   "metadata": {},
   "outputs": [
    {
     "name": "stdout",
     "output_type": "stream",
     "text": [
      "(265, 36)\n",
      "(265, 12)\n",
      "(30, 36)\n",
      "(30, 12)\n"
     ]
    }
   ],
   "source": [
    "print(trainX.shape)\n",
    "print(trainY.shape)\n",
    "print(testX.shape)\n",
    "print(testY.shape)"
   ]
  },
  {
   "cell_type": "code",
   "execution_count": 310,
   "id": "500e7104",
   "metadata": {},
   "outputs": [
    {
     "name": "stdout",
     "output_type": "stream",
     "text": [
      "[INFO] training network...\n",
      "Epoch 1/100\n",
      "9/9 [==============================] - 0s 12ms/step - loss: 0.0835 - accuracy: 0.0377 - val_loss: 0.0802 - val_accuracy: 0.0333\n",
      "Epoch 2/100\n",
      "9/9 [==============================] - 0s 3ms/step - loss: 0.0835 - accuracy: 0.0377 - val_loss: 0.0801 - val_accuracy: 0.0333\n",
      "Epoch 3/100\n",
      "9/9 [==============================] - 0s 3ms/step - loss: 0.0835 - accuracy: 0.0377 - val_loss: 0.0801 - val_accuracy: 0.0333\n",
      "Epoch 4/100\n",
      "9/9 [==============================] - 0s 3ms/step - loss: 0.0834 - accuracy: 0.0377 - val_loss: 0.0801 - val_accuracy: 0.0333\n",
      "Epoch 5/100\n",
      "9/9 [==============================] - 0s 3ms/step - loss: 0.0834 - accuracy: 0.0377 - val_loss: 0.0801 - val_accuracy: 0.0333\n",
      "Epoch 6/100\n",
      "9/9 [==============================] - 0s 3ms/step - loss: 0.0834 - accuracy: 0.0377 - val_loss: 0.0801 - val_accuracy: 0.0333\n",
      "Epoch 7/100\n",
      "9/9 [==============================] - 0s 4ms/step - loss: 0.0834 - accuracy: 0.0377 - val_loss: 0.0800 - val_accuracy: 0.0333\n",
      "Epoch 8/100\n",
      "9/9 [==============================] - 0s 3ms/step - loss: 0.0833 - accuracy: 0.0377 - val_loss: 0.0800 - val_accuracy: 0.0333\n",
      "Epoch 9/100\n",
      "9/9 [==============================] - 0s 3ms/step - loss: 0.0833 - accuracy: 0.0377 - val_loss: 0.0800 - val_accuracy: 0.0333\n",
      "Epoch 10/100\n",
      "9/9 [==============================] - 0s 3ms/step - loss: 0.0833 - accuracy: 0.0377 - val_loss: 0.0800 - val_accuracy: 0.0333\n",
      "Epoch 11/100\n",
      "9/9 [==============================] - 0s 3ms/step - loss: 0.0833 - accuracy: 0.0377 - val_loss: 0.0800 - val_accuracy: 0.0333\n",
      "Epoch 12/100\n",
      "9/9 [==============================] - 0s 3ms/step - loss: 0.0833 - accuracy: 0.0377 - val_loss: 0.0799 - val_accuracy: 0.0333\n",
      "Epoch 13/100\n",
      "9/9 [==============================] - 0s 3ms/step - loss: 0.0833 - accuracy: 0.0377 - val_loss: 0.0799 - val_accuracy: 0.0333\n",
      "Epoch 14/100\n",
      "9/9 [==============================] - 0s 4ms/step - loss: 0.0832 - accuracy: 0.0377 - val_loss: 0.0799 - val_accuracy: 0.0333\n",
      "Epoch 15/100\n",
      "9/9 [==============================] - 0s 3ms/step - loss: 0.0832 - accuracy: 0.0377 - val_loss: 0.0799 - val_accuracy: 0.0333\n",
      "Epoch 16/100\n",
      "9/9 [==============================] - 0s 3ms/step - loss: 0.0832 - accuracy: 0.0377 - val_loss: 0.0799 - val_accuracy: 0.0333\n",
      "Epoch 17/100\n",
      "9/9 [==============================] - 0s 3ms/step - loss: 0.0832 - accuracy: 0.0377 - val_loss: 0.0798 - val_accuracy: 0.0333\n",
      "Epoch 18/100\n",
      "9/9 [==============================] - 0s 3ms/step - loss: 0.0832 - accuracy: 0.0377 - val_loss: 0.0798 - val_accuracy: 0.0333\n",
      "Epoch 19/100\n",
      "9/9 [==============================] - 0s 7ms/step - loss: 0.0831 - accuracy: 0.0377 - val_loss: 0.0798 - val_accuracy: 0.0333\n",
      "Epoch 20/100\n",
      "9/9 [==============================] - 0s 6ms/step - loss: 0.0831 - accuracy: 0.0377 - val_loss: 0.0798 - val_accuracy: 0.0333\n",
      "Epoch 21/100\n",
      "9/9 [==============================] - 0s 4ms/step - loss: 0.0831 - accuracy: 0.0377 - val_loss: 0.0798 - val_accuracy: 0.0333\n",
      "Epoch 22/100\n",
      "9/9 [==============================] - 0s 4ms/step - loss: 0.0831 - accuracy: 0.0377 - val_loss: 0.0797 - val_accuracy: 0.0333\n",
      "Epoch 23/100\n",
      "9/9 [==============================] - 0s 3ms/step - loss: 0.0831 - accuracy: 0.0377 - val_loss: 0.0797 - val_accuracy: 0.0333\n",
      "Epoch 24/100\n",
      "9/9 [==============================] - 0s 3ms/step - loss: 0.0830 - accuracy: 0.0377 - val_loss: 0.0797 - val_accuracy: 0.0333\n",
      "Epoch 25/100\n",
      "9/9 [==============================] - 0s 3ms/step - loss: 0.0830 - accuracy: 0.0377 - val_loss: 0.0797 - val_accuracy: 0.0333\n",
      "Epoch 26/100\n",
      "9/9 [==============================] - 0s 3ms/step - loss: 0.0830 - accuracy: 0.0377 - val_loss: 0.0797 - val_accuracy: 0.0333\n",
      "Epoch 27/100\n",
      "9/9 [==============================] - 0s 3ms/step - loss: 0.0830 - accuracy: 0.0377 - val_loss: 0.0797 - val_accuracy: 0.0333\n",
      "Epoch 28/100\n",
      "9/9 [==============================] - 0s 3ms/step - loss: 0.0830 - accuracy: 0.0377 - val_loss: 0.0796 - val_accuracy: 0.0333\n",
      "Epoch 29/100\n",
      "9/9 [==============================] - 0s 3ms/step - loss: 0.0830 - accuracy: 0.0377 - val_loss: 0.0796 - val_accuracy: 0.0333\n",
      "Epoch 30/100\n",
      "9/9 [==============================] - 0s 3ms/step - loss: 0.0829 - accuracy: 0.0377 - val_loss: 0.0796 - val_accuracy: 0.0333\n",
      "Epoch 31/100\n",
      "9/9 [==============================] - 0s 3ms/step - loss: 0.0829 - accuracy: 0.0377 - val_loss: 0.0796 - val_accuracy: 0.0333\n",
      "Epoch 32/100\n",
      "9/9 [==============================] - 0s 3ms/step - loss: 0.0829 - accuracy: 0.0377 - val_loss: 0.0796 - val_accuracy: 0.0333\n",
      "Epoch 33/100\n",
      "9/9 [==============================] - 0s 3ms/step - loss: 0.0829 - accuracy: 0.0377 - val_loss: 0.0796 - val_accuracy: 0.0333\n",
      "Epoch 34/100\n",
      "9/9 [==============================] - 0s 3ms/step - loss: 0.0829 - accuracy: 0.0377 - val_loss: 0.0795 - val_accuracy: 0.0333\n",
      "Epoch 35/100\n",
      "9/9 [==============================] - 0s 5ms/step - loss: 0.0829 - accuracy: 0.0377 - val_loss: 0.0795 - val_accuracy: 0.0333\n",
      "Epoch 36/100\n",
      "9/9 [==============================] - 0s 3ms/step - loss: 0.0828 - accuracy: 0.0377 - val_loss: 0.0795 - val_accuracy: 0.0333\n",
      "Epoch 37/100\n",
      "9/9 [==============================] - 0s 3ms/step - loss: 0.0828 - accuracy: 0.0377 - val_loss: 0.0795 - val_accuracy: 0.0333\n",
      "Epoch 38/100\n",
      "9/9 [==============================] - 0s 3ms/step - loss: 0.0828 - accuracy: 0.0377 - val_loss: 0.0795 - val_accuracy: 0.0333\n",
      "Epoch 39/100\n",
      "9/9 [==============================] - 0s 3ms/step - loss: 0.0828 - accuracy: 0.0377 - val_loss: 0.0795 - val_accuracy: 0.0333\n",
      "Epoch 40/100\n",
      "9/9 [==============================] - 0s 3ms/step - loss: 0.0828 - accuracy: 0.0377 - val_loss: 0.0795 - val_accuracy: 0.0333\n",
      "Epoch 41/100\n",
      "9/9 [==============================] - 0s 3ms/step - loss: 0.0828 - accuracy: 0.0377 - val_loss: 0.0794 - val_accuracy: 0.0333\n",
      "Epoch 42/100\n",
      "9/9 [==============================] - 0s 3ms/step - loss: 0.0827 - accuracy: 0.0377 - val_loss: 0.0794 - val_accuracy: 0.0333\n",
      "Epoch 43/100\n",
      "9/9 [==============================] - 0s 3ms/step - loss: 0.0827 - accuracy: 0.0377 - val_loss: 0.0794 - val_accuracy: 0.0333\n",
      "Epoch 44/100\n",
      "9/9 [==============================] - 0s 3ms/step - loss: 0.0827 - accuracy: 0.0377 - val_loss: 0.0794 - val_accuracy: 0.0333\n",
      "Epoch 45/100\n",
      "9/9 [==============================] - 0s 3ms/step - loss: 0.0827 - accuracy: 0.0377 - val_loss: 0.0794 - val_accuracy: 0.0333\n",
      "Epoch 46/100\n",
      "9/9 [==============================] - 0s 3ms/step - loss: 0.0827 - accuracy: 0.0377 - val_loss: 0.0794 - val_accuracy: 0.0333\n",
      "Epoch 47/100\n",
      "9/9 [==============================] - 0s 3ms/step - loss: 0.0827 - accuracy: 0.0377 - val_loss: 0.0793 - val_accuracy: 0.0333\n",
      "Epoch 48/100\n",
      "9/9 [==============================] - 0s 3ms/step - loss: 0.0827 - accuracy: 0.0377 - val_loss: 0.0793 - val_accuracy: 0.0333\n",
      "Epoch 49/100\n",
      "9/9 [==============================] - 0s 3ms/step - loss: 0.0826 - accuracy: 0.0377 - val_loss: 0.0793 - val_accuracy: 0.0333\n",
      "Epoch 50/100\n",
      "9/9 [==============================] - 0s 3ms/step - loss: 0.0826 - accuracy: 0.0377 - val_loss: 0.0793 - val_accuracy: 0.0333\n",
      "Epoch 51/100\n",
      "9/9 [==============================] - 0s 3ms/step - loss: 0.0826 - accuracy: 0.0377 - val_loss: 0.0793 - val_accuracy: 0.0333\n",
      "Epoch 52/100\n",
      "9/9 [==============================] - 0s 3ms/step - loss: 0.0826 - accuracy: 0.0377 - val_loss: 0.0793 - val_accuracy: 0.0333\n",
      "Epoch 53/100\n",
      "9/9 [==============================] - 0s 3ms/step - loss: 0.0826 - accuracy: 0.0377 - val_loss: 0.0793 - val_accuracy: 0.0333\n",
      "Epoch 54/100\n",
      "9/9 [==============================] - 0s 3ms/step - loss: 0.0826 - accuracy: 0.0377 - val_loss: 0.0793 - val_accuracy: 0.0333\n",
      "Epoch 55/100\n",
      "9/9 [==============================] - 0s 3ms/step - loss: 0.0826 - accuracy: 0.0377 - val_loss: 0.0792 - val_accuracy: 0.0333\n",
      "Epoch 56/100\n",
      "9/9 [==============================] - 0s 3ms/step - loss: 0.0825 - accuracy: 0.0377 - val_loss: 0.0792 - val_accuracy: 0.0333\n",
      "Epoch 57/100\n",
      "9/9 [==============================] - 0s 3ms/step - loss: 0.0825 - accuracy: 0.0377 - val_loss: 0.0792 - val_accuracy: 0.0333\n",
      "Epoch 58/100\n",
      "9/9 [==============================] - 0s 3ms/step - loss: 0.0825 - accuracy: 0.0377 - val_loss: 0.0792 - val_accuracy: 0.0333\n",
      "Epoch 59/100\n",
      "9/9 [==============================] - 0s 3ms/step - loss: 0.0825 - accuracy: 0.0377 - val_loss: 0.0792 - val_accuracy: 0.0333\n",
      "Epoch 60/100\n",
      "9/9 [==============================] - 0s 3ms/step - loss: 0.0825 - accuracy: 0.0377 - val_loss: 0.0792 - val_accuracy: 0.0333\n",
      "Epoch 61/100\n",
      "9/9 [==============================] - 0s 3ms/step - loss: 0.0825 - accuracy: 0.0377 - val_loss: 0.0792 - val_accuracy: 0.0333\n",
      "Epoch 62/100\n",
      "9/9 [==============================] - 0s 3ms/step - loss: 0.0825 - accuracy: 0.0377 - val_loss: 0.0791 - val_accuracy: 0.0333\n",
      "Epoch 63/100\n",
      "9/9 [==============================] - 0s 3ms/step - loss: 0.0825 - accuracy: 0.0377 - val_loss: 0.0791 - val_accuracy: 0.0333\n",
      "Epoch 64/100\n",
      "9/9 [==============================] - 0s 3ms/step - loss: 0.0824 - accuracy: 0.0377 - val_loss: 0.0791 - val_accuracy: 0.0333\n",
      "Epoch 65/100\n",
      "9/9 [==============================] - 0s 3ms/step - loss: 0.0824 - accuracy: 0.0377 - val_loss: 0.0791 - val_accuracy: 0.0333\n",
      "Epoch 66/100\n",
      "9/9 [==============================] - 0s 3ms/step - loss: 0.0824 - accuracy: 0.0377 - val_loss: 0.0791 - val_accuracy: 0.0333\n",
      "Epoch 67/100\n",
      "9/9 [==============================] - 0s 3ms/step - loss: 0.0824 - accuracy: 0.0377 - val_loss: 0.0791 - val_accuracy: 0.0333\n",
      "Epoch 68/100\n",
      "9/9 [==============================] - 0s 3ms/step - loss: 0.0824 - accuracy: 0.0377 - val_loss: 0.0791 - val_accuracy: 0.0333\n",
      "Epoch 69/100\n",
      "9/9 [==============================] - 0s 3ms/step - loss: 0.0824 - accuracy: 0.0377 - val_loss: 0.0791 - val_accuracy: 0.0333\n",
      "Epoch 70/100\n",
      "9/9 [==============================] - 0s 3ms/step - loss: 0.0824 - accuracy: 0.0377 - val_loss: 0.0790 - val_accuracy: 0.0333\n",
      "Epoch 71/100\n",
      "9/9 [==============================] - 0s 3ms/step - loss: 0.0824 - accuracy: 0.0377 - val_loss: 0.0790 - val_accuracy: 0.0333\n",
      "Epoch 72/100\n",
      "9/9 [==============================] - 0s 3ms/step - loss: 0.0823 - accuracy: 0.0377 - val_loss: 0.0790 - val_accuracy: 0.0333\n",
      "Epoch 73/100\n",
      "9/9 [==============================] - 0s 3ms/step - loss: 0.0823 - accuracy: 0.0377 - val_loss: 0.0790 - val_accuracy: 0.0333\n",
      "Epoch 74/100\n",
      "9/9 [==============================] - 0s 3ms/step - loss: 0.0823 - accuracy: 0.0377 - val_loss: 0.0790 - val_accuracy: 0.0333\n",
      "Epoch 75/100\n",
      "9/9 [==============================] - 0s 3ms/step - loss: 0.0823 - accuracy: 0.0377 - val_loss: 0.0790 - val_accuracy: 0.0333\n",
      "Epoch 76/100\n",
      "9/9 [==============================] - 0s 3ms/step - loss: 0.0823 - accuracy: 0.0377 - val_loss: 0.0790 - val_accuracy: 0.0333\n",
      "Epoch 77/100\n",
      "9/9 [==============================] - 0s 3ms/step - loss: 0.0823 - accuracy: 0.0377 - val_loss: 0.0790 - val_accuracy: 0.0333\n",
      "Epoch 78/100\n",
      "9/9 [==============================] - 0s 3ms/step - loss: 0.0823 - accuracy: 0.0377 - val_loss: 0.0790 - val_accuracy: 0.0333\n",
      "Epoch 79/100\n",
      "9/9 [==============================] - 0s 3ms/step - loss: 0.0823 - accuracy: 0.0377 - val_loss: 0.0789 - val_accuracy: 0.0333\n",
      "Epoch 80/100\n",
      "9/9 [==============================] - 0s 3ms/step - loss: 0.0822 - accuracy: 0.0377 - val_loss: 0.0789 - val_accuracy: 0.0333\n",
      "Epoch 81/100\n",
      "9/9 [==============================] - 0s 3ms/step - loss: 0.0822 - accuracy: 0.0377 - val_loss: 0.0789 - val_accuracy: 0.0333\n",
      "Epoch 82/100\n",
      "9/9 [==============================] - 0s 3ms/step - loss: 0.0822 - accuracy: 0.0377 - val_loss: 0.0789 - val_accuracy: 0.0333\n",
      "Epoch 83/100\n",
      "9/9 [==============================] - 0s 3ms/step - loss: 0.0822 - accuracy: 0.0377 - val_loss: 0.0789 - val_accuracy: 0.0333\n",
      "Epoch 84/100\n",
      "9/9 [==============================] - 0s 3ms/step - loss: 0.0822 - accuracy: 0.0377 - val_loss: 0.0789 - val_accuracy: 0.0333\n",
      "Epoch 85/100\n",
      "9/9 [==============================] - 0s 3ms/step - loss: 0.0822 - accuracy: 0.0377 - val_loss: 0.0789 - val_accuracy: 0.0333\n",
      "Epoch 86/100\n",
      "9/9 [==============================] - 0s 3ms/step - loss: 0.0822 - accuracy: 0.0377 - val_loss: 0.0789 - val_accuracy: 0.0333\n",
      "Epoch 87/100\n",
      "9/9 [==============================] - 0s 3ms/step - loss: 0.0822 - accuracy: 0.0377 - val_loss: 0.0788 - val_accuracy: 0.0333\n",
      "Epoch 88/100\n",
      "9/9 [==============================] - 0s 3ms/step - loss: 0.0822 - accuracy: 0.0377 - val_loss: 0.0788 - val_accuracy: 0.0333\n",
      "Epoch 89/100\n",
      "9/9 [==============================] - 0s 3ms/step - loss: 0.0821 - accuracy: 0.0377 - val_loss: 0.0788 - val_accuracy: 0.0333\n",
      "Epoch 90/100\n",
      "9/9 [==============================] - 0s 3ms/step - loss: 0.0821 - accuracy: 0.0377 - val_loss: 0.0788 - val_accuracy: 0.0333\n",
      "Epoch 91/100\n",
      "9/9 [==============================] - 0s 3ms/step - loss: 0.0821 - accuracy: 0.0377 - val_loss: 0.0788 - val_accuracy: 0.0333\n",
      "Epoch 92/100\n",
      "9/9 [==============================] - 0s 3ms/step - loss: 0.0821 - accuracy: 0.0377 - val_loss: 0.0788 - val_accuracy: 0.0333\n",
      "Epoch 93/100\n",
      "9/9 [==============================] - 0s 3ms/step - loss: 0.0821 - accuracy: 0.0377 - val_loss: 0.0788 - val_accuracy: 0.0333\n",
      "Epoch 94/100\n",
      "9/9 [==============================] - 0s 3ms/step - loss: 0.0821 - accuracy: 0.0377 - val_loss: 0.0788 - val_accuracy: 0.0333\n",
      "Epoch 95/100\n",
      "9/9 [==============================] - 0s 3ms/step - loss: 0.0821 - accuracy: 0.0377 - val_loss: 0.0788 - val_accuracy: 0.0333\n",
      "Epoch 96/100\n",
      "9/9 [==============================] - 0s 3ms/step - loss: 0.0821 - accuracy: 0.0377 - val_loss: 0.0788 - val_accuracy: 0.0333\n",
      "Epoch 97/100\n",
      "9/9 [==============================] - 0s 3ms/step - loss: 0.0821 - accuracy: 0.0377 - val_loss: 0.0787 - val_accuracy: 0.0333\n",
      "Epoch 98/100\n",
      "9/9 [==============================] - 0s 3ms/step - loss: 0.0821 - accuracy: 0.0377 - val_loss: 0.0787 - val_accuracy: 0.0333\n",
      "Epoch 99/100\n",
      "9/9 [==============================] - 0s 3ms/step - loss: 0.0820 - accuracy: 0.0377 - val_loss: 0.0787 - val_accuracy: 0.0333\n",
      "Epoch 100/100\n",
      "9/9 [==============================] - 0s 3ms/step - loss: 0.0820 - accuracy: 0.0377 - val_loss: 0.0787 - val_accuracy: 0.0333\n"
     ]
    }
   ],
   "source": [
    "# train the model using SGD\n",
    "print(\"[INFO] training network...\")\n",
    "sgd = SGD(0.01)\n",
    "model.compile(loss=\"mse\", optimizer=sgd, metrics=[\"accuracy\"])\n",
    "H = model.fit(trainX, trainY, validation_data=(testX, testY), epochs=100, batch_size=32)"
   ]
  },
  {
   "cell_type": "code",
   "execution_count": 311,
   "id": "e79ff7c9",
   "metadata": {},
   "outputs": [
    {
     "name": "stdout",
     "output_type": "stream",
     "text": [
      "[INFO] evaluating network...\n",
      "1/1 [==============================] - 0s 37ms/step\n",
      "              precision    recall  f1-score   support\n",
      "\n",
      "           0       0.00      0.00      0.00         4\n",
      "           1       0.00      0.00      0.00         4\n",
      "           2       0.00      0.00      0.00         3\n",
      "           3       0.00      0.00      0.00         2\n",
      "           4       0.00      0.00      0.00         1\n",
      "           5       0.00      0.00      0.00         1\n",
      "           6       0.03      1.00      0.06         1\n",
      "           7       0.00      0.00      0.00         5\n",
      "           8       0.00      0.00      0.00         8\n",
      "          10       0.00      0.00      0.00         1\n",
      "\n",
      "    accuracy                           0.03        30\n",
      "   macro avg       0.00      0.10      0.01        30\n",
      "weighted avg       0.00      0.03      0.00        30\n",
      "\n"
     ]
    },
    {
     "name": "stderr",
     "output_type": "stream",
     "text": [
      "/Users/altynbekaidarbekov/anaconda/anaconda3/envs/robotics_project/lib/python3.10/site-packages/sklearn/metrics/_classification.py:1344: UndefinedMetricWarning: Precision and F-score are ill-defined and being set to 0.0 in labels with no predicted samples. Use `zero_division` parameter to control this behavior.\n",
      "  _warn_prf(average, modifier, msg_start, len(result))\n",
      "/Users/altynbekaidarbekov/anaconda/anaconda3/envs/robotics_project/lib/python3.10/site-packages/sklearn/metrics/_classification.py:1344: UndefinedMetricWarning: Precision and F-score are ill-defined and being set to 0.0 in labels with no predicted samples. Use `zero_division` parameter to control this behavior.\n",
      "  _warn_prf(average, modifier, msg_start, len(result))\n",
      "/Users/altynbekaidarbekov/anaconda/anaconda3/envs/robotics_project/lib/python3.10/site-packages/sklearn/metrics/_classification.py:1344: UndefinedMetricWarning: Precision and F-score are ill-defined and being set to 0.0 in labels with no predicted samples. Use `zero_division` parameter to control this behavior.\n",
      "  _warn_prf(average, modifier, msg_start, len(result))\n"
     ]
    }
   ],
   "source": [
    "# evaluate the network\n",
    "print(\"[INFO] evaluating network...\")\n",
    "predictions = model.predict(testX, batch_size=32)\n",
    "print(classification_report(testY.argmax(axis=1),\n",
    "\tpredictions.argmax(axis=1)))"
   ]
  },
  {
   "cell_type": "code",
   "execution_count": 312,
   "id": "34f2cc1d",
   "metadata": {},
   "outputs": [
    {
     "ename": "NameError",
     "evalue": "name 'args' is not defined",
     "output_type": "error",
     "traceback": [
      "\u001b[0;31m---------------------------------------------------------------------------\u001b[0m",
      "\u001b[0;31mNameError\u001b[0m                                 Traceback (most recent call last)",
      "Cell \u001b[0;32mIn[312], line 12\u001b[0m\n\u001b[1;32m     10\u001b[0m plt\u001b[38;5;241m.\u001b[39mylabel(\u001b[38;5;124m\"\u001b[39m\u001b[38;5;124mLoss/Accuracy\u001b[39m\u001b[38;5;124m\"\u001b[39m)\n\u001b[1;32m     11\u001b[0m plt\u001b[38;5;241m.\u001b[39mlegend()\n\u001b[0;32m---> 12\u001b[0m plt\u001b[38;5;241m.\u001b[39msavefig(\u001b[43margs\u001b[49m[\u001b[38;5;124m\"\u001b[39m\u001b[38;5;124moutput\u001b[39m\u001b[38;5;124m\"\u001b[39m])\n",
      "\u001b[0;31mNameError\u001b[0m: name 'args' is not defined"
     ]
    },
    {
     "data": {
      "image/png": "[encoded data removed]",
      "text/plain": [
       "<Figure size 640x480 with 1 Axes>"
      ]
     },
     "metadata": {},
     "output_type": "display_data"
    }
   ],
   "source": [
    "# plot the training loss and accuracy\n",
    "plt.style.use(\"ggplot\")\n",
    "plt.figure()\n",
    "plt.plot(np.arange(0, 100), H.history[\"loss\"], label=\"train_loss\")\n",
    "plt.plot(np.arange(0, 100), H.history[\"val_loss\"], label=\"val_loss\")\n",
    "plt.plot(np.arange(0, 100), H.history[\"accuracy\"], label=\"train_acc\")\n",
    "plt.plot(np.arange(0, 100), H.history[\"val_accuracy\"], label=\"val_acc\")\n",
    "plt.title(\"Training Loss and Accuracy\")\n",
    "plt.xlabel(\"Epoch #\")\n",
    "plt.ylabel(\"Loss/Accuracy\")\n",
    "plt.legend()\n",
    "plt.savefig(args[\"output\"])"
   ]
  }
 ],
 "metadata": {
  "kernelspec": {
   "display_name": "Python 3 (ipykernel)",
   "language": "python",
   "name": "python3"
  },
  "language_info": {
   "codemirror_mode": {
    "name": "ipython",
    "version": 3
   },
   "file_extension": ".py",
   "mimetype": "text/x-python",
   "name": "python",
   "nbconvert_exporter": "python",
   "pygments_lexer": "ipython3",
   "version": "3.10.9"
  }
 },
 "nbformat": 4,
 "nbformat_minor": 5
}
