{
 "cells": [
  {
   "cell_type": "code",
   "execution_count": 1,
   "id": "4b7c308a",
   "metadata": {},
   "outputs": [
    {
     "name": "stderr",
     "output_type": "stream",
     "text": [
      "2023-05-01 07:45:55.417804: I tensorflow/core/platform/cpu_feature_guard.cc:193] This TensorFlow binary is optimized with oneAPI Deep Neural Network Library (oneDNN) to use the following CPU instructions in performance-critical operations:  SSE4.1 SSE4.2\n",
      "To enable them in other operations, rebuild TensorFlow with the appropriate compiler flags.\n"
     ]
    },
    {
     "name": "stdout",
     "output_type": "stream",
     "text": [
      "import finish\n"
     ]
    }
   ],
   "source": [
    "from tensorflow import keras\n",
    "from keras.layers import Dense\n",
    "from keras.models import Sequential\n",
    "from keras.layers import Dense, Flatten\n",
    "from keras.callbacks import EarlyStopping\n",
    "from keras.optimizers import SGD, Adam\n",
    "from keras.regularizers import l2\n",
    "from keras import backend as K\n",
    "import matplotlib.pyplot as plt\n",
    "import numpy as np\n",
    "import os\n",
    "import pandas as pd\n",
    "from scipy import stats\n",
    "import seaborn as sns\n",
    "from datetime import datetime\n",
    "print('import finish')"
   ]
  },
  {
   "cell_type": "code",
   "execution_count": 2,
   "id": "bf679167",
   "metadata": {},
   "outputs": [],
   "source": [
    "datasets_dir = 'datasets'\n",
    "checkpoint_dir = 'checkpoints'"
   ]
  },
  {
   "cell_type": "code",
   "execution_count": 3,
   "id": "cb940f9a",
   "metadata": {},
   "outputs": [],
   "source": [
    "joint_number = 5"
   ]
  },
  {
   "cell_type": "code",
   "execution_count": 4,
   "id": "b4828415",
   "metadata": {},
   "outputs": [],
   "source": [
    "datasets = []\n",
    "for file_name in list(os.listdir(datasets_dir)):\n",
    "    dataset = pd.read_table(f'{datasets_dir}/{file_name}', sep=' ')\n",
    "    datasets.append(dataset)\n"
   ]
  },
  {
   "cell_type": "code",
   "execution_count": 5,
   "id": "a9314f22",
   "metadata": {},
   "outputs": [],
   "source": [
    "def remove_outliers(df, column=None):\n",
    "    if column is None:\n",
    "        return df[(np.abs(stats.zscore(df)) < 3).all(axis=1)]\n",
    "    return df[(np.abs(stats.zscore(df[column])) < 3).all(axis=1)]"
   ]
  },
  {
   "cell_type": "code",
   "execution_count": 6,
   "id": "0a6b5f27",
   "metadata": {},
   "outputs": [],
   "source": [
    "full_datasets = []\n",
    "for dataset in datasets:\n",
    "    time = dataset[\"time\"]\n",
    "    col_names_vel = [el for el in datasets[0].columns if el.startswith(\"Vel\")]\n",
    "    velocities = dataset[col_names_vel]\n",
    "    diff_v = np.diff(velocities, axis=0)\n",
    "    diff_t = np.diff(time, axis=0)\n",
    "    col_names_acc = [el.replace(\"Vel\", \"Acc\") for el in col_names_vel]\n",
    "    acc = pd.DataFrame(\n",
    "        np.transpose(np.transpose(diff_v) / diff_t), columns=col_names_acc\n",
    "    )\n",
    "    dataset_with_acc = (dataset.join(acc))[:-1]\n",
    "    dataset_with_acc = remove_outliers(\n",
    "        dataset_with_acc,\n",
    "        column=[el for el in datasets[0].columns if el.startswith(\"For\")],\n",
    "    )\n",
    "    full_datasets.append(dataset_with_acc)"
   ]
  },
  {
   "cell_type": "code",
   "execution_count": 7,
   "id": "32955eae",
   "metadata": {},
   "outputs": [],
   "source": [
    "dataset = pd.concat(full_datasets)"
   ]
  },
  {
   "cell_type": "code",
   "execution_count": 8,
   "id": "927a3431",
   "metadata": {},
   "outputs": [
    {
     "name": "stdout",
     "output_type": "stream",
     "text": [
      "(513161, 21)\n"
     ]
    }
   ],
   "source": [
    "print(dataset.shape)"
   ]
  },
  {
   "cell_type": "code",
   "execution_count": 9,
   "id": "1d63210c",
   "metadata": {},
   "outputs": [],
   "source": [
    "def plot_(name, df, i=0, count=-1, start=0, title=None, file_name=None, directory=None):\n",
    "    if title is None:\n",
    "        title = name\n",
    "    col = [el for el in df.columns if el.startswith(name)]\n",
    "    val = df[col]\n",
    "    i = val.iloc[start : start + count, i]\n",
    "    plt.plot(range(len(i)), i, \".\")\n",
    "    plt.title(title)\n",
    "\n",
    "    if directory is not None:\n",
    "        if not os.path.exists(directory):\n",
    "            os.makedirs(directory)\n",
    "\n",
    "    if file_name is not None:\n",
    "        plt.savefig(directory + \"/\" + file_name)\n",
    "\n",
    "    plt.show()\n",
    "\n",
    "\n",
    "# plot_('Pos', dataset, 0)\n",
    "# plot_('Vel', dataset, 0)\n",
    "# plot_('Acc', dataset, 0)\n",
    "# plot_(\n",
    "#     \"For\",\n",
    "#     dataset,\n",
    "#     1,\n",
    "#     count=1000,\n",
    "#     start=1000,\n",
    "#     title=\"Force cleaned\",\n",
    "# )\n",
    "# for i in range(2):\n",
    "#     plot_('Vel', full_datasets[0], i)"
   ]
  },
  {
   "attachments": {},
   "cell_type": "markdown",
   "id": "3738ca1d",
   "metadata": {},
   "source": [
    "# data preprocessing"
   ]
  },
  {
   "cell_type": "code",
   "execution_count": 10,
   "id": "d36d27b8",
   "metadata": {
    "scrolled": true
   },
   "outputs": [
    {
     "data": {
      "text/plain": [
       "1     0.135863\n",
       "2     0.135863\n",
       "3     0.135864\n",
       "4     0.135865\n",
       "5     0.135866\n",
       "        ...   \n",
       "36    0.859873\n",
       "37    0.859874\n",
       "38    0.859875\n",
       "39    0.859875\n",
       "40    0.859876\n",
       "Name: time, Length: 513161, dtype: float64"
      ]
     },
     "execution_count": 10,
     "metadata": {},
     "output_type": "execute_result"
    }
   ],
   "source": [
    "df = dataset\n",
    "# normalize\n",
    "dataset = (df-df.min())/(df.max()-df.min())\n",
    "dataset.pop('time')"
   ]
  },
  {
   "cell_type": "code",
   "execution_count": 11,
   "id": "8d44e33b",
   "metadata": {
    "scrolled": false
   },
   "outputs": [],
   "source": [
    "def split_to_x_y(table):\n",
    "    X_names = [el for el in table.columns if el.startswith('Pos') or el.startswith('Vel') or el.startswith('Acc')]\n",
    "    Y_names = [el for el in table.columns if el.startswith('For')]\n",
    "    return table[X_names], table[Y_names]"
   ]
  },
  {
   "cell_type": "code",
   "execution_count": 12,
   "id": "c3c7d08b",
   "metadata": {},
   "outputs": [],
   "source": [
    "# divide dataset into train and test by fraction\n",
    "def split_train_test(table, fraction):\n",
    "    train_size = int(len(table) * fraction)\n",
    "    return table[:train_size], table[train_size:]"
   ]
  },
  {
   "cell_type": "code",
   "execution_count": 13,
   "id": "b4a4ba4b",
   "metadata": {},
   "outputs": [],
   "source": [
    "train, test = split_train_test(dataset, 0.7)\n",
    "(train_x, train_y), (test_x, test_y) = split_to_x_y(train), split_to_x_y(test)"
   ]
  },
  {
   "cell_type": "code",
   "execution_count": 26,
   "id": "cf0f1d03",
   "metadata": {},
   "outputs": [],
   "source": [
    "from keras import backend as K\n",
    "\n",
    "def nmse(y_true, y_pred):\n",
    "    return mse(y_true, y_pred) / var(y_true)\n",
    "\n",
    "def nrmse(y_true, y_pred):\n",
    "    return K.sqrt(K.mean(K.square(y_pred - y_true))) / (K.max(y_true) - K.min(y_true))\n",
    "\n",
    "# variance of data\n",
    "def var(y):\n",
    "    return K.var(y)\n",
    "\n",
    "def mse(y_true, y_pred):\n",
    "    return K.mean(K.square(y_pred - y_true))\n"
   ]
  },
  {
   "cell_type": "code",
   "execution_count": 33,
   "id": "90ff4f52",
   "metadata": {},
   "outputs": [],
   "source": [
    "def create_model(layers):\n",
    "    model = Sequential()\n",
    "    # input layer\n",
    "    model.add(Flatten(input_shape=((joint_number * 3),)))\n",
    "    for layer in layers:\n",
    "        model.add(\n",
    "        Dense(\n",
    "            layer,\n",
    "            activation=\"relu\",\n",
    "        )\n",
    "    )\n",
    "\n",
    "    # output layer\n",
    "    model.add(Dense(joint_number, activation=\"relu\"))\n",
    "\n",
    "    model.compile(\n",
    "        loss=\"mse\",\n",
    "        optimizer=\"adam\",\n",
    "        metrics=[\n",
    "            'mse',\n",
    "            nmse,\n",
    "            keras.metrics.RootMeanSquaredError(\"rmse\"),\n",
    "            nrmse,\n",
    "            'mae',\n",
    "        ],\n",
    "    )\n",
    "    return model"
   ]
  },
  {
   "cell_type": "code",
   "execution_count": 36,
   "id": "ce734142",
   "metadata": {},
   "outputs": [],
   "source": [
    "layers_list = [\n",
    "    [1000 for _ in range(2)]\n",
    "]\n",
    "# for neuron_number in [100]:\n",
    "#     layers_list += [\n",
    "#         [neuron_number for _ in range(layer_number)] for layer_number in range(1, 11)\n",
    "#     ]\n",
    "\n",
    "models = [create_model(layers) for layers in reversed(layers_list)]\n"
   ]
  },
  {
   "cell_type": "code",
   "execution_count": 37,
   "id": "55a5da02",
   "metadata": {},
   "outputs": [
    {
     "name": "stdout",
     "output_type": "stream",
     "text": [
      "[[1000, 1000]]\n"
     ]
    }
   ],
   "source": [
    "print(layers_list)"
   ]
  },
  {
   "cell_type": "code",
   "execution_count": 38,
   "id": "500e7104",
   "metadata": {},
   "outputs": [
    {
     "name": "stdout",
     "output_type": "stream",
     "text": [
      "Epoch 1/200\n",
      "11218/11226 [============================>.] - ETA: 0s - loss: 0.0133 - mse: 0.0133 - nmse: 0.1688 - rmse: 0.1154 - nrmse: 0.1152 - mae: 0.0823\n",
      "Epoch 1: val_mse improved from inf to 0.00972, saving model to checkpoints/2023-05-01_10-48-03/1000 1000/epoch-01-val_mse-0.0097.hdf5\n",
      "11226/11226 [==============================] - 77s 7ms/step - loss: 0.0133 - mse: 0.0133 - nmse: 0.1687 - rmse: 0.1154 - nrmse: 0.1152 - mae: 0.0823 - val_loss: 0.0097 - val_mse: 0.0097 - val_nmse: 0.1651 - val_rmse: 0.0986 - val_nrmse: 0.1240 - val_mae: 0.0684\n",
      "Epoch 2/200\n",
      "11225/11226 [============================>.] - ETA: 0s - loss: 0.0098 - mse: 0.0098 - nmse: 0.1237 - rmse: 0.0988 - nrmse: 0.0998 - mae: 0.0693\n",
      "Epoch 2: val_mse improved from 0.00972 to 0.00931, saving model to checkpoints/2023-05-01_10-48-03/1000 1000/epoch-02-val_mse-0.0093.hdf5\n",
      "11226/11226 [==============================] - 83s 7ms/step - loss: 0.0098 - mse: 0.0098 - nmse: 0.1237 - rmse: 0.0988 - nrmse: 0.0998 - mae: 0.0693 - val_loss: 0.0093 - val_mse: 0.0093 - val_nmse: 0.1593 - val_rmse: 0.0965 - val_nrmse: 0.1221 - val_mae: 0.0672\n",
      "Epoch 3/200\n",
      "11226/11226 [==============================] - ETA: 0s - loss: 0.0090 - mse: 0.0090 - nmse: 0.1140 - rmse: 0.0948 - nrmse: 0.0958 - mae: 0.0660\n",
      "Epoch 3: val_mse did not improve from 0.00931\n",
      "11226/11226 [==============================] - 103s 9ms/step - loss: 0.0090 - mse: 0.0090 - nmse: 0.1140 - rmse: 0.0948 - nrmse: 0.0958 - mae: 0.0660 - val_loss: 0.0106 - val_mse: 0.0106 - val_nmse: 0.1859 - val_rmse: 0.1028 - val_nrmse: 0.1311 - val_mae: 0.0726\n",
      "Epoch 4/200\n",
      "11223/11226 [============================>.] - ETA: 0s - loss: 0.0084 - mse: 0.0084 - nmse: 0.1067 - rmse: 0.0917 - nrmse: 0.0927 - mae: 0.0633\n",
      "Epoch 4: val_mse improved from 0.00931 to 0.00891, saving model to checkpoints/2023-05-01_10-48-03/1000 1000/epoch-04-val_mse-0.0089.hdf5\n",
      "11226/11226 [==============================] - 109s 10ms/step - loss: 0.0084 - mse: 0.0084 - nmse: 0.1067 - rmse: 0.0917 - nrmse: 0.0927 - mae: 0.0633 - val_loss: 0.0089 - val_mse: 0.0089 - val_nmse: 0.1524 - val_rmse: 0.0944 - val_nrmse: 0.1180 - val_mae: 0.0637\n",
      "Epoch 5/200\n",
      "11223/11226 [============================>.] - ETA: 0s - loss: 0.0079 - mse: 0.0079 - nmse: 0.1001 - rmse: 0.0888 - nrmse: 0.0897 - mae: 0.0608\n",
      "Epoch 5: val_mse improved from 0.00891 to 0.00782, saving model to checkpoints/2023-05-01_10-48-03/1000 1000/epoch-05-val_mse-0.0078.hdf5\n",
      "11226/11226 [==============================] - 356s 32ms/step - loss: 0.0079 - mse: 0.0079 - nmse: 0.1001 - rmse: 0.0888 - nrmse: 0.0897 - mae: 0.0608 - val_loss: 0.0078 - val_mse: 0.0078 - val_nmse: 0.1362 - val_rmse: 0.0884 - val_nrmse: 0.1110 - val_mae: 0.0589\n",
      "Epoch 6/200\n",
      "11221/11226 [============================>.] - ETA: 0s - loss: 0.0075 - mse: 0.0075 - nmse: 0.0950 - rmse: 0.0865 - nrmse: 0.0874 - mae: 0.0588\n",
      "Epoch 6: val_mse did not improve from 0.00782\n",
      "11226/11226 [==============================] - 129s 12ms/step - loss: 0.0075 - mse: 0.0075 - nmse: 0.0950 - rmse: 0.0865 - nrmse: 0.0874 - mae: 0.0588 - val_loss: 0.0086 - val_mse: 0.0086 - val_nmse: 0.1531 - val_rmse: 0.0925 - val_nrmse: 0.1176 - val_mae: 0.0639\n",
      "Epoch 7/200\n",
      "11224/11226 [============================>.] - ETA: 0s - loss: 0.0072 - mse: 0.0072 - nmse: 0.0914 - rmse: 0.0849 - nrmse: 0.0857 - mae: 0.0574"
     ]
    },
    {
     "ename": "KeyboardInterrupt",
     "evalue": "",
     "output_type": "error",
     "traceback": [
      "\u001b[0;31m---------------------------------------------------------------------------\u001b[0m",
      "\u001b[0;31mKeyboardInterrupt\u001b[0m                         Traceback (most recent call last)",
      "Cell \u001b[0;32mIn[38], line 38\u001b[0m\n\u001b[1;32m     22\u001b[0m filepath_backup \u001b[39m=\u001b[39m (\n\u001b[1;32m     23\u001b[0m     checkpoint_dir_current\n\u001b[1;32m     24\u001b[0m     \u001b[39m+\u001b[39m \u001b[39m\"\u001b[39m\u001b[39m/\u001b[39m\u001b[39m\"\u001b[39m\n\u001b[1;32m     25\u001b[0m     \u001b[39m+\u001b[39m name\n\u001b[1;32m     26\u001b[0m     \u001b[39m+\u001b[39m \u001b[39m\"\u001b[39m\u001b[39m/epoch-\u001b[39m\u001b[39m{epoch:02d}\u001b[39;00m\u001b[39m-val_mse-\u001b[39m\u001b[39m{val_mse:.4f}\u001b[39;00m\u001b[39m.hdf5\u001b[39m\u001b[39m\"\u001b[39m\n\u001b[1;32m     27\u001b[0m )\n\u001b[1;32m     29\u001b[0m checkpoint_best \u001b[39m=\u001b[39m keras\u001b[39m.\u001b[39mcallbacks\u001b[39m.\u001b[39mModelCheckpoint(\n\u001b[1;32m     30\u001b[0m     filepath_backup,\n\u001b[1;32m     31\u001b[0m     monitor\u001b[39m=\u001b[39m\u001b[39m\"\u001b[39m\u001b[39mval_mse\u001b[39m\u001b[39m\"\u001b[39m,\n\u001b[0;32m   (...)\u001b[0m\n\u001b[1;32m     34\u001b[0m     verbose\u001b[39m=\u001b[39m\u001b[39m1\u001b[39m,\n\u001b[1;32m     35\u001b[0m )\n\u001b[1;32m     37\u001b[0m histories\u001b[39m.\u001b[39mappend(\n\u001b[0;32m---> 38\u001b[0m     model\u001b[39m.\u001b[39;49mfit(\n\u001b[1;32m     39\u001b[0m         train_x,\n\u001b[1;32m     40\u001b[0m         train_y,\n\u001b[1;32m     41\u001b[0m         epochs\u001b[39m=\u001b[39;49m\u001b[39m200\u001b[39;49m,\n\u001b[1;32m     42\u001b[0m         validation_data\u001b[39m=\u001b[39;49m(test_x, test_y),\n\u001b[1;32m     43\u001b[0m         callbacks\u001b[39m=\u001b[39;49m[\n\u001b[1;32m     44\u001b[0m             EarlyStopping(patience\u001b[39m=\u001b[39;49m\u001b[39m5\u001b[39;49m, monitor\u001b[39m=\u001b[39;49m\u001b[39m\"\u001b[39;49m\u001b[39mval_mse\u001b[39;49m\u001b[39m\"\u001b[39;49m, mode\u001b[39m=\u001b[39;49m\u001b[39m\"\u001b[39;49m\u001b[39mmin\u001b[39;49m\u001b[39m\"\u001b[39;49m),\n\u001b[1;32m     45\u001b[0m             checkpoint_best,\n\u001b[1;32m     46\u001b[0m         ],\n\u001b[1;32m     47\u001b[0m     )\n\u001b[1;32m     48\u001b[0m )\n",
      "File \u001b[0;32m~/anaconda/anaconda3/envs/robotics_project/lib/python3.10/site-packages/keras/utils/traceback_utils.py:65\u001b[0m, in \u001b[0;36mfilter_traceback.<locals>.error_handler\u001b[0;34m(*args, **kwargs)\u001b[0m\n\u001b[1;32m     63\u001b[0m filtered_tb \u001b[39m=\u001b[39m \u001b[39mNone\u001b[39;00m\n\u001b[1;32m     64\u001b[0m \u001b[39mtry\u001b[39;00m:\n\u001b[0;32m---> 65\u001b[0m     \u001b[39mreturn\u001b[39;00m fn(\u001b[39m*\u001b[39;49margs, \u001b[39m*\u001b[39;49m\u001b[39m*\u001b[39;49mkwargs)\n\u001b[1;32m     66\u001b[0m \u001b[39mexcept\u001b[39;00m \u001b[39mException\u001b[39;00m \u001b[39mas\u001b[39;00m e:\n\u001b[1;32m     67\u001b[0m     filtered_tb \u001b[39m=\u001b[39m _process_traceback_frames(e\u001b[39m.\u001b[39m__traceback__)\n",
      "File \u001b[0;32m~/anaconda/anaconda3/envs/robotics_project/lib/python3.10/site-packages/keras/engine/training.py:1606\u001b[0m, in \u001b[0;36mModel.fit\u001b[0;34m(self, x, y, batch_size, epochs, verbose, callbacks, validation_split, validation_data, shuffle, class_weight, sample_weight, initial_epoch, steps_per_epoch, validation_steps, validation_batch_size, validation_freq, max_queue_size, workers, use_multiprocessing)\u001b[0m\n\u001b[1;32m   1591\u001b[0m \u001b[39mif\u001b[39;00m \u001b[39mgetattr\u001b[39m(\u001b[39mself\u001b[39m, \u001b[39m\"\u001b[39m\u001b[39m_eval_data_handler\u001b[39m\u001b[39m\"\u001b[39m, \u001b[39mNone\u001b[39;00m) \u001b[39mis\u001b[39;00m \u001b[39mNone\u001b[39;00m:\n\u001b[1;32m   1592\u001b[0m     \u001b[39mself\u001b[39m\u001b[39m.\u001b[39m_eval_data_handler \u001b[39m=\u001b[39m data_adapter\u001b[39m.\u001b[39mget_data_handler(\n\u001b[1;32m   1593\u001b[0m         x\u001b[39m=\u001b[39mval_x,\n\u001b[1;32m   1594\u001b[0m         y\u001b[39m=\u001b[39mval_y,\n\u001b[0;32m   (...)\u001b[0m\n\u001b[1;32m   1604\u001b[0m         steps_per_execution\u001b[39m=\u001b[39m\u001b[39mself\u001b[39m\u001b[39m.\u001b[39m_steps_per_execution,\n\u001b[1;32m   1605\u001b[0m     )\n\u001b[0;32m-> 1606\u001b[0m val_logs \u001b[39m=\u001b[39m \u001b[39mself\u001b[39;49m\u001b[39m.\u001b[39;49mevaluate(\n\u001b[1;32m   1607\u001b[0m     x\u001b[39m=\u001b[39;49mval_x,\n\u001b[1;32m   1608\u001b[0m     y\u001b[39m=\u001b[39;49mval_y,\n\u001b[1;32m   1609\u001b[0m     sample_weight\u001b[39m=\u001b[39;49mval_sample_weight,\n\u001b[1;32m   1610\u001b[0m     batch_size\u001b[39m=\u001b[39;49mvalidation_batch_size \u001b[39mor\u001b[39;49;00m batch_size,\n\u001b[1;32m   1611\u001b[0m     steps\u001b[39m=\u001b[39;49mvalidation_steps,\n\u001b[1;32m   1612\u001b[0m     callbacks\u001b[39m=\u001b[39;49mcallbacks,\n\u001b[1;32m   1613\u001b[0m     max_queue_size\u001b[39m=\u001b[39;49mmax_queue_size,\n\u001b[1;32m   1614\u001b[0m     workers\u001b[39m=\u001b[39;49mworkers,\n\u001b[1;32m   1615\u001b[0m     use_multiprocessing\u001b[39m=\u001b[39;49muse_multiprocessing,\n\u001b[1;32m   1616\u001b[0m     return_dict\u001b[39m=\u001b[39;49m\u001b[39mTrue\u001b[39;49;00m,\n\u001b[1;32m   1617\u001b[0m     _use_cached_eval_dataset\u001b[39m=\u001b[39;49m\u001b[39mTrue\u001b[39;49;00m,\n\u001b[1;32m   1618\u001b[0m )\n\u001b[1;32m   1619\u001b[0m val_logs \u001b[39m=\u001b[39m {\n\u001b[1;32m   1620\u001b[0m     \u001b[39m\"\u001b[39m\u001b[39mval_\u001b[39m\u001b[39m\"\u001b[39m \u001b[39m+\u001b[39m name: val \u001b[39mfor\u001b[39;00m name, val \u001b[39min\u001b[39;00m val_logs\u001b[39m.\u001b[39mitems()\n\u001b[1;32m   1621\u001b[0m }\n\u001b[1;32m   1622\u001b[0m epoch_logs\u001b[39m.\u001b[39mupdate(val_logs)\n",
      "File \u001b[0;32m~/anaconda/anaconda3/envs/robotics_project/lib/python3.10/site-packages/keras/utils/traceback_utils.py:65\u001b[0m, in \u001b[0;36mfilter_traceback.<locals>.error_handler\u001b[0;34m(*args, **kwargs)\u001b[0m\n\u001b[1;32m     63\u001b[0m filtered_tb \u001b[39m=\u001b[39m \u001b[39mNone\u001b[39;00m\n\u001b[1;32m     64\u001b[0m \u001b[39mtry\u001b[39;00m:\n\u001b[0;32m---> 65\u001b[0m     \u001b[39mreturn\u001b[39;00m fn(\u001b[39m*\u001b[39;49margs, \u001b[39m*\u001b[39;49m\u001b[39m*\u001b[39;49mkwargs)\n\u001b[1;32m     66\u001b[0m \u001b[39mexcept\u001b[39;00m \u001b[39mException\u001b[39;00m \u001b[39mas\u001b[39;00m e:\n\u001b[1;32m     67\u001b[0m     filtered_tb \u001b[39m=\u001b[39m _process_traceback_frames(e\u001b[39m.\u001b[39m__traceback__)\n",
      "File \u001b[0;32m~/anaconda/anaconda3/envs/robotics_project/lib/python3.10/site-packages/keras/engine/training.py:1947\u001b[0m, in \u001b[0;36mModel.evaluate\u001b[0;34m(self, x, y, batch_size, verbose, sample_weight, steps, callbacks, max_queue_size, workers, use_multiprocessing, return_dict, **kwargs)\u001b[0m\n\u001b[1;32m   1943\u001b[0m \u001b[39mwith\u001b[39;00m tf\u001b[39m.\u001b[39mprofiler\u001b[39m.\u001b[39mexperimental\u001b[39m.\u001b[39mTrace(\n\u001b[1;32m   1944\u001b[0m     \u001b[39m\"\u001b[39m\u001b[39mtest\u001b[39m\u001b[39m\"\u001b[39m, step_num\u001b[39m=\u001b[39mstep, _r\u001b[39m=\u001b[39m\u001b[39m1\u001b[39m\n\u001b[1;32m   1945\u001b[0m ):\n\u001b[1;32m   1946\u001b[0m     callbacks\u001b[39m.\u001b[39mon_test_batch_begin(step)\n\u001b[0;32m-> 1947\u001b[0m     tmp_logs \u001b[39m=\u001b[39m \u001b[39mself\u001b[39;49m\u001b[39m.\u001b[39;49mtest_function(iterator)\n\u001b[1;32m   1948\u001b[0m     \u001b[39mif\u001b[39;00m data_handler\u001b[39m.\u001b[39mshould_sync:\n\u001b[1;32m   1949\u001b[0m         context\u001b[39m.\u001b[39masync_wait()\n",
      "File \u001b[0;32m~/anaconda/anaconda3/envs/robotics_project/lib/python3.10/site-packages/tensorflow/python/util/traceback_utils.py:150\u001b[0m, in \u001b[0;36mfilter_traceback.<locals>.error_handler\u001b[0;34m(*args, **kwargs)\u001b[0m\n\u001b[1;32m    148\u001b[0m filtered_tb \u001b[39m=\u001b[39m \u001b[39mNone\u001b[39;00m\n\u001b[1;32m    149\u001b[0m \u001b[39mtry\u001b[39;00m:\n\u001b[0;32m--> 150\u001b[0m   \u001b[39mreturn\u001b[39;00m fn(\u001b[39m*\u001b[39;49margs, \u001b[39m*\u001b[39;49m\u001b[39m*\u001b[39;49mkwargs)\n\u001b[1;32m    151\u001b[0m \u001b[39mexcept\u001b[39;00m \u001b[39mException\u001b[39;00m \u001b[39mas\u001b[39;00m e:\n\u001b[1;32m    152\u001b[0m   filtered_tb \u001b[39m=\u001b[39m _process_traceback_frames(e\u001b[39m.\u001b[39m__traceback__)\n",
      "File \u001b[0;32m~/anaconda/anaconda3/envs/robotics_project/lib/python3.10/site-packages/tensorflow/python/eager/def_function.py:915\u001b[0m, in \u001b[0;36mFunction.__call__\u001b[0;34m(self, *args, **kwds)\u001b[0m\n\u001b[1;32m    912\u001b[0m compiler \u001b[39m=\u001b[39m \u001b[39m\"\u001b[39m\u001b[39mxla\u001b[39m\u001b[39m\"\u001b[39m \u001b[39mif\u001b[39;00m \u001b[39mself\u001b[39m\u001b[39m.\u001b[39m_jit_compile \u001b[39melse\u001b[39;00m \u001b[39m\"\u001b[39m\u001b[39mnonXla\u001b[39m\u001b[39m\"\u001b[39m\n\u001b[1;32m    914\u001b[0m \u001b[39mwith\u001b[39;00m OptionalXlaContext(\u001b[39mself\u001b[39m\u001b[39m.\u001b[39m_jit_compile):\n\u001b[0;32m--> 915\u001b[0m   result \u001b[39m=\u001b[39m \u001b[39mself\u001b[39;49m\u001b[39m.\u001b[39;49m_call(\u001b[39m*\u001b[39;49margs, \u001b[39m*\u001b[39;49m\u001b[39m*\u001b[39;49mkwds)\n\u001b[1;32m    917\u001b[0m new_tracing_count \u001b[39m=\u001b[39m \u001b[39mself\u001b[39m\u001b[39m.\u001b[39mexperimental_get_tracing_count()\n\u001b[1;32m    918\u001b[0m without_tracing \u001b[39m=\u001b[39m (tracing_count \u001b[39m==\u001b[39m new_tracing_count)\n",
      "File \u001b[0;32m~/anaconda/anaconda3/envs/robotics_project/lib/python3.10/site-packages/tensorflow/python/eager/def_function.py:954\u001b[0m, in \u001b[0;36mFunction._call\u001b[0;34m(self, *args, **kwds)\u001b[0m\n\u001b[1;32m    951\u001b[0m \u001b[39mself\u001b[39m\u001b[39m.\u001b[39m_lock\u001b[39m.\u001b[39mrelease()\n\u001b[1;32m    952\u001b[0m \u001b[39m# In this case we have not created variables on the first call. So we can\u001b[39;00m\n\u001b[1;32m    953\u001b[0m \u001b[39m# run the first trace but we should fail if variables are created.\u001b[39;00m\n\u001b[0;32m--> 954\u001b[0m results \u001b[39m=\u001b[39m \u001b[39mself\u001b[39;49m\u001b[39m.\u001b[39;49m_stateful_fn(\u001b[39m*\u001b[39;49margs, \u001b[39m*\u001b[39;49m\u001b[39m*\u001b[39;49mkwds)\n\u001b[1;32m    955\u001b[0m \u001b[39mif\u001b[39;00m \u001b[39mself\u001b[39m\u001b[39m.\u001b[39m_created_variables \u001b[39mand\u001b[39;00m \u001b[39mnot\u001b[39;00m ALLOW_DYNAMIC_VARIABLE_CREATION:\n\u001b[1;32m    956\u001b[0m   \u001b[39mraise\u001b[39;00m \u001b[39mValueError\u001b[39;00m(\u001b[39m\"\u001b[39m\u001b[39mCreating variables on a non-first call to a function\u001b[39m\u001b[39m\"\u001b[39m\n\u001b[1;32m    957\u001b[0m                    \u001b[39m\"\u001b[39m\u001b[39m decorated with tf.function.\u001b[39m\u001b[39m\"\u001b[39m)\n",
      "File \u001b[0;32m~/anaconda/anaconda3/envs/robotics_project/lib/python3.10/site-packages/tensorflow/python/eager/function.py:2496\u001b[0m, in \u001b[0;36mFunction.__call__\u001b[0;34m(self, *args, **kwargs)\u001b[0m\n\u001b[1;32m   2493\u001b[0m \u001b[39mwith\u001b[39;00m \u001b[39mself\u001b[39m\u001b[39m.\u001b[39m_lock:\n\u001b[1;32m   2494\u001b[0m   (graph_function,\n\u001b[1;32m   2495\u001b[0m    filtered_flat_args) \u001b[39m=\u001b[39m \u001b[39mself\u001b[39m\u001b[39m.\u001b[39m_maybe_define_function(args, kwargs)\n\u001b[0;32m-> 2496\u001b[0m \u001b[39mreturn\u001b[39;00m graph_function\u001b[39m.\u001b[39;49m_call_flat(\n\u001b[1;32m   2497\u001b[0m     filtered_flat_args, captured_inputs\u001b[39m=\u001b[39;49mgraph_function\u001b[39m.\u001b[39;49mcaptured_inputs)\n",
      "File \u001b[0;32m~/anaconda/anaconda3/envs/robotics_project/lib/python3.10/site-packages/tensorflow/python/eager/function.py:1862\u001b[0m, in \u001b[0;36mConcreteFunction._call_flat\u001b[0;34m(self, args, captured_inputs, cancellation_manager)\u001b[0m\n\u001b[1;32m   1858\u001b[0m possible_gradient_type \u001b[39m=\u001b[39m gradients_util\u001b[39m.\u001b[39mPossibleTapeGradientTypes(args)\n\u001b[1;32m   1859\u001b[0m \u001b[39mif\u001b[39;00m (possible_gradient_type \u001b[39m==\u001b[39m gradients_util\u001b[39m.\u001b[39mPOSSIBLE_GRADIENT_TYPES_NONE\n\u001b[1;32m   1860\u001b[0m     \u001b[39mand\u001b[39;00m executing_eagerly):\n\u001b[1;32m   1861\u001b[0m   \u001b[39m# No tape is watching; skip to running the function.\u001b[39;00m\n\u001b[0;32m-> 1862\u001b[0m   \u001b[39mreturn\u001b[39;00m \u001b[39mself\u001b[39m\u001b[39m.\u001b[39m_build_call_outputs(\u001b[39mself\u001b[39;49m\u001b[39m.\u001b[39;49m_inference_function\u001b[39m.\u001b[39;49mcall(\n\u001b[1;32m   1863\u001b[0m       ctx, args, cancellation_manager\u001b[39m=\u001b[39;49mcancellation_manager))\n\u001b[1;32m   1864\u001b[0m forward_backward \u001b[39m=\u001b[39m \u001b[39mself\u001b[39m\u001b[39m.\u001b[39m_select_forward_and_backward_functions(\n\u001b[1;32m   1865\u001b[0m     args,\n\u001b[1;32m   1866\u001b[0m     possible_gradient_type,\n\u001b[1;32m   1867\u001b[0m     executing_eagerly)\n\u001b[1;32m   1868\u001b[0m forward_function, args_with_tangents \u001b[39m=\u001b[39m forward_backward\u001b[39m.\u001b[39mforward()\n",
      "File \u001b[0;32m~/anaconda/anaconda3/envs/robotics_project/lib/python3.10/site-packages/tensorflow/python/eager/function.py:499\u001b[0m, in \u001b[0;36m_EagerDefinedFunction.call\u001b[0;34m(self, ctx, args, cancellation_manager)\u001b[0m\n\u001b[1;32m    497\u001b[0m \u001b[39mwith\u001b[39;00m _InterpolateFunctionError(\u001b[39mself\u001b[39m):\n\u001b[1;32m    498\u001b[0m   \u001b[39mif\u001b[39;00m cancellation_manager \u001b[39mis\u001b[39;00m \u001b[39mNone\u001b[39;00m:\n\u001b[0;32m--> 499\u001b[0m     outputs \u001b[39m=\u001b[39m execute\u001b[39m.\u001b[39;49mexecute(\n\u001b[1;32m    500\u001b[0m         \u001b[39mstr\u001b[39;49m(\u001b[39mself\u001b[39;49m\u001b[39m.\u001b[39;49msignature\u001b[39m.\u001b[39;49mname),\n\u001b[1;32m    501\u001b[0m         num_outputs\u001b[39m=\u001b[39;49m\u001b[39mself\u001b[39;49m\u001b[39m.\u001b[39;49m_num_outputs,\n\u001b[1;32m    502\u001b[0m         inputs\u001b[39m=\u001b[39;49margs,\n\u001b[1;32m    503\u001b[0m         attrs\u001b[39m=\u001b[39;49mattrs,\n\u001b[1;32m    504\u001b[0m         ctx\u001b[39m=\u001b[39;49mctx)\n\u001b[1;32m    505\u001b[0m   \u001b[39melse\u001b[39;00m:\n\u001b[1;32m    506\u001b[0m     outputs \u001b[39m=\u001b[39m execute\u001b[39m.\u001b[39mexecute_with_cancellation(\n\u001b[1;32m    507\u001b[0m         \u001b[39mstr\u001b[39m(\u001b[39mself\u001b[39m\u001b[39m.\u001b[39msignature\u001b[39m.\u001b[39mname),\n\u001b[1;32m    508\u001b[0m         num_outputs\u001b[39m=\u001b[39m\u001b[39mself\u001b[39m\u001b[39m.\u001b[39m_num_outputs,\n\u001b[0;32m   (...)\u001b[0m\n\u001b[1;32m    511\u001b[0m         ctx\u001b[39m=\u001b[39mctx,\n\u001b[1;32m    512\u001b[0m         cancellation_manager\u001b[39m=\u001b[39mcancellation_manager)\n",
      "File \u001b[0;32m~/anaconda/anaconda3/envs/robotics_project/lib/python3.10/site-packages/tensorflow/python/eager/execute.py:54\u001b[0m, in \u001b[0;36mquick_execute\u001b[0;34m(op_name, num_outputs, inputs, attrs, ctx, name)\u001b[0m\n\u001b[1;32m     52\u001b[0m \u001b[39mtry\u001b[39;00m:\n\u001b[1;32m     53\u001b[0m   ctx\u001b[39m.\u001b[39mensure_initialized()\n\u001b[0;32m---> 54\u001b[0m   tensors \u001b[39m=\u001b[39m pywrap_tfe\u001b[39m.\u001b[39;49mTFE_Py_Execute(ctx\u001b[39m.\u001b[39;49m_handle, device_name, op_name,\n\u001b[1;32m     55\u001b[0m                                       inputs, attrs, num_outputs)\n\u001b[1;32m     56\u001b[0m \u001b[39mexcept\u001b[39;00m core\u001b[39m.\u001b[39m_NotOkStatusException \u001b[39mas\u001b[39;00m e:\n\u001b[1;32m     57\u001b[0m   \u001b[39mif\u001b[39;00m name \u001b[39mis\u001b[39;00m \u001b[39mnot\u001b[39;00m \u001b[39mNone\u001b[39;00m:\n",
      "\u001b[0;31mKeyboardInterrupt\u001b[0m: "
     ]
    }
   ],
   "source": [
    "checkpoint_dir_current = (\n",
    "    checkpoint_dir + \"/\" + datetime.now().strftime(\"%Y-%m-%d_%H-%M-%S\")\n",
    ")\n",
    "\n",
    "if not os.path.exists(checkpoint_dir_current):\n",
    "    os.makedirs(checkpoint_dir_current)\n",
    "\n",
    "histories = []\n",
    "for i, model in enumerate(models):\n",
    "    layers = layers_list[i]\n",
    "    name = \" \".join(map(str, layers))\n",
    "\n",
    "    from datetime import datetime\n",
    "\n",
    "    gen_date_str = datetime.now().strftime(\"-%Y-%m-%d_%H-%M-%S\")\n",
    "\n",
    "    if not os.path.exists(checkpoint_dir_current):\n",
    "        os.mkdir(checkpoint_dir_current)\n",
    "    if not os.path.exists(checkpoint_dir_current + \"/\" + name):\n",
    "        os.mkdir(checkpoint_dir_current + \"/\" + name)\n",
    "\n",
    "    filepath_backup = (\n",
    "        checkpoint_dir_current\n",
    "        + \"/\"\n",
    "        + name\n",
    "        + \"/epoch-{epoch:02d}-val_mse-{val_mse:.4f}.hdf5\"\n",
    "    )\n",
    "\n",
    "    checkpoint_best = keras.callbacks.ModelCheckpoint(\n",
    "        filepath_backup,\n",
    "        monitor=\"val_mse\",\n",
    "        mode=\"min\",\n",
    "        save_best_only=True,\n",
    "        verbose=1,\n",
    "    )\n",
    "\n",
    "    histories.append(\n",
    "        model.fit(\n",
    "            train_x,\n",
    "            train_y,\n",
    "            epochs=200,\n",
    "            validation_data=(test_x, test_y),\n",
    "            callbacks=[\n",
    "                EarlyStopping(patience=5, monitor=\"val_mse\", mode=\"min\"),\n",
    "                checkpoint_best,\n",
    "            ],\n",
    "        )\n",
    "    )"
   ]
  },
  {
   "cell_type": "code",
   "execution_count": null,
   "id": "1cc9ab84",
   "metadata": {},
   "outputs": [
    {
     "name": "stdout",
     "output_type": "stream",
     "text": [
      "4811/4811 [==============================] - 5s 1ms/step - loss: 0.0094 - mse: 0.0094 - nmse: 0.1700 - nrmse: 0.1235 - rmse: 0.0971 - mae: 0.0683\n",
      "validation 100: [0.009430551901459694, 0.009430551901459694, 0.1700468361377716, 0.12346704304218292, 0.09711113572120667, 0.06832339614629745]\n",
      "4811/4811 [==============================] - 7s 1ms/step - loss: 0.0091 - mse: 0.0091 - nmse: 0.1606 - nrmse: 0.1210 - rmse: 0.0955 - mae: 0.0667\n",
      "validation 100 100: [0.009127280674874783, 0.009127280674874783, 0.1605512648820877, 0.12095052003860474, 0.09553684294223785, 0.06670547276735306]\n",
      "4811/4811 [==============================] - 5s 1ms/step - loss: 0.0086 - mse: 0.0086 - nmse: 0.1542 - nrmse: 0.1174 - rmse: 0.0925 - mae: 0.0637\n",
      "validation 100 100 100: [0.008559721522033215, 0.008559721522033215, 0.15421012043952942, 0.11742398887872696, 0.09251873940229416, 0.0636695846915245]\n",
      "4811/4811 [==============================] - 5s 1ms/step - loss: 0.0093 - mse: 0.0093 - nmse: 0.1642 - nrmse: 0.1217 - rmse: 0.0964 - mae: 0.0669\n",
      "validation 100 100 100 100: [0.009287018328905106, 0.009287018328905106, 0.16422942280769348, 0.1217019185423851, 0.09636908769607544, 0.06694908440113068]\n",
      "4811/4811 [==============================] - 5s 990us/step - loss: 0.0078 - mse: 0.0078 - nmse: 0.1384 - nrmse: 0.1112 - rmse: 0.0882 - mae: 0.0599\n",
      "validation 100 100 100 100 100: [0.007770979311317205, 0.007770979311317205, 0.13844415545463562, 0.11119156330823898, 0.08815324306488037, 0.05992450937628746]\n",
      "4811/4811 [==============================] - 5s 973us/step - loss: 0.0083 - mse: 0.0083 - nmse: 0.1442 - nrmse: 0.1157 - rmse: 0.0911 - mae: 0.0645\n",
      "validation 100 100 100 100 100 100: [0.008296512067317963, 0.008296512067317963, 0.14420290291309357, 0.11574622988700867, 0.09108511358499527, 0.06447925418615341]\n",
      "4811/4811 [==============================] - 4s 899us/step - loss: 0.0072 - mse: 0.0072 - nmse: 0.1240 - nrmse: 0.1061 - rmse: 0.0846 - mae: 0.0561\n",
      "validation 100 100 100 100 100 100 100: [0.007154711522161961, 0.007154711522161961, 0.12401597946882248, 0.10612205415964127, 0.08458554744720459, 0.05605122819542885]\n",
      "4811/4811 [==============================] - 4s 811us/step - loss: 0.0080 - mse: 0.0080 - nmse: 0.1397 - nrmse: 0.1109 - rmse: 0.0896 - mae: 0.0580\n",
      "validation 100 100 100 100 100 100 100 100: [0.008021206595003605, 0.008021206595003605, 0.13965342938899994, 0.11087358742952347, 0.08956121653318405, 0.05802812799811363]\n",
      "4811/4811 [==============================] - 4s 797us/step - loss: 0.0092 - mse: 0.0092 - nmse: 0.1595 - nrmse: 0.1217 - rmse: 0.0959 - mae: 0.0673\n",
      "validation 100 100 100 100 100 100 100 100 100: [0.009196747094392776, 0.009196747094392776, 0.15948078036308289, 0.121697336435318, 0.09589977562427521, 0.0673011988401413]\n",
      "4811/4811 [==============================] - 4s 832us/step - loss: 0.0111 - mse: 0.0111 - nmse: 0.1863 - nrmse: 0.1330 - rmse: 0.1052 - mae: 0.0752\n",
      "validation 100 100 100 100 100 100 100 100 100 100: [0.011074037291109562, 0.011074037291109562, 0.18625737726688385, 0.1330329328775406, 0.10523311048746109, 0.07515804469585419]\n"
     ]
    }
   ],
   "source": [
    "for i, model in enumerate(models):\n",
    "    layers = layers_list[i]\n",
    "    name = dir = \" \".join(map(str, layers))\n",
    "\n",
    "    print(f\"validation {name}:\", model.evaluate(test_x, test_y))"
   ]
  },
  {
   "cell_type": "code",
   "execution_count": null,
   "id": "34f2cc1d",
   "metadata": {},
   "outputs": [
    {
     "data": {
      "text/plain": [
       "<matplotlib.legend.Legend at 0x7f885598eb30>"
      ]
     },
     "execution_count": 32,
     "metadata": {},
     "output_type": "execute_result"
    },
    {
     "data": {
      "image/png": "[encoded data removed]",
      "text/plain": [
       "<Figure size 640x480 with 1 Axes>"
      ]
     },
     "metadata": {},
     "output_type": "display_data"
    }
   ],
   "source": [
    "plt.style.use(\"ggplot\")\n",
    "plt.figure()\n",
    "for i, model in enumerate(models):\n",
    "    layers = layers_list[i]\n",
    "    history = histories[i]\n",
    "    name = dir = \" \".join(map(str, layers))\n",
    "\n",
    "    # plot the training loss and accuracy\n",
    "    epochs = len(history.history[\"loss\"])\n",
    "\n",
    "    plt.plot(np.arange(0, epochs),\n",
    "            history.history[\"val_mse\"], label=f\"val_mse {name}\")\n",
    "plt.title(f\"Training Accuracy\")\n",
    "plt.xlabel(\"Epoch #\")\n",
    "plt.ylabel(\"MSE\")\n",
    "plt.legend()"
   ]
  }
 ],
 "metadata": {
  "kernelspec": {
   "display_name": "Python 3 (ipykernel)",
   "language": "python",
   "name": "python3"
  },
  "language_info": {
   "codemirror_mode": {
    "name": "ipython",
    "version": 3
   },
   "file_extension": ".py",
   "mimetype": "text/x-python",
   "name": "python",
   "nbconvert_exporter": "python",
   "pygments_lexer": "ipython3",
   "version": "3.10.9"
  }
 },
 "nbformat": 4,
 "nbformat_minor": 5
}
